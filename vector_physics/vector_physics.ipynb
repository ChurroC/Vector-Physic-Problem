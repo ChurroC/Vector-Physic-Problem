{
 "cells": [
  {
   "cell_type": "code",
   "execution_count": 93,
   "metadata": {},
   "outputs": [
    {
     "name": "stdout",
     "output_type": "stream",
     "text": [
      "-1.9999999999999998\n",
      "-3.464101615137755\n"
     ]
    }
   ],
   "source": [
    "import math\n",
    "\n",
    "def opposite_side(hypotenuse: int, angle: int, pos: bool = False):\n",
    "    opposite: int = hypotenuse * math.sin(math.radians(angle)) * (1 if pos else -1)\n",
    "    return opposite\n",
    "\n",
    "def adjacent_side(hypotenuse: int, angle: int, pos: bool = False):\n",
    "    adjacent: int = hypotenuse * math.cos(math.radians(angle)) * (1 if pos else -1)\n",
    "    return adjacent\n",
    "\n",
    "print(opposite_side(4, 30))\n",
    "print(adjacent_side(4, 30))"
   ]
  },
  {
   "cell_type": "code",
   "execution_count": 94,
   "metadata": {},
   "outputs": [
    {
     "name": "stdout",
     "output_type": "stream",
     "text": [
      "(4, 30, 'N', 'W')\n"
     ]
    }
   ],
   "source": [
    "# magnitude, direction, n or s, e or w\n",
    "# we have 13 and 48 and 3 maybe\n",
    "# the missing numbers are already taken\n",
    "vectors: dict[int, tuple[int, int, str, str]] = {\n",
    "    2: (20, 45, \"N\", \"E\"),\n",
    "    3: (30, 60, \"S\", \"W\"),\n",
    "    4: (40, 30, \"S\", \"E\"),\n",
    "    5: (50, 45, \"N\", \"E\"),\n",
    "    7: (10, 30, \"S\", \"W\"),\n",
    "    8: (15, 45, \"S\", \"E\"),\n",
    "    9: (20, 60, \"N\", \"W\"),\n",
    "    10: (1, 30, \"N\", \"E\"),\n",
    "    11: (2, 45, \"S\", \"W\"),\n",
    "    12: (3, 60, \"S\", \"E\"),\n",
    "    13: (4, 30, \"N\", \"W\"),\n",
    "    14: (5, 45, \"N\", \"E\"),\n",
    "    15: (21, 60, \"S\", \"W\"),\n",
    "    17: (23, 45, \"E\", \"N\"),\n",
    "    19: (5, 30, \"E\", \"S\"),\n",
    "    20: (15, 45, \"W\", \"S\"),\n",
    "    21: (25, 60, \"E\", \"N\"),\n",
    "    22: (35, 30, \"W\", \"N\"),\n",
    "    23: (45, 45, \"E\", \"S\"),\n",
    "    24: (55, 60, \"W\", \"S\"),\n",
    "    26: (11, 45, \"W\", \"N\"),\n",
    "    27: (12, 60, \"E\", \"S\"),\n",
    "    28: (13, 30, \"W\", \"S\"),\n",
    "    29: (14, 45, \"E\", \"N\"),\n",
    "    30: (15, 60, \"W\", \"N\"),\n",
    "    31: (31, 30, \"E\", \"S\"),\n",
    "    32: (32, 45, \"W\", \"S\"),\n",
    "    33: (33, 60, \"S\", \"W\"),\n",
    "    34: (34, 30, \"S\", \"E\"),\n",
    "    35: (35, 45, \"N\", \"W\"),\n",
    "    36: (36, 60, \"N\", \"E\"),\n",
    "    37: (2, 30, \"N\", \"E\"),\n",
    "    38: (4, 45, \"S\", \"W\"),\n",
    "    39: (6, 60, \"S\", \"E\"),\n",
    "    40: (8, 30, \"N\", \"W\"),\n",
    "    41: (10, 45, \"S\", \"E\"),\n",
    "    42: (13, 60, \"S\", \"W\"),\n",
    "    44: (10, 0, \"S\", \"\"),\n",
    "    45: (15, 0, \"E\", \"\"),\n",
    "    47: (20, 0, \"N\", \"\"),\n",
    "    48: (15, 0, \"S\", \"\"),\n",
    "    50: (5, 0, \"W\", \"\"),\n",
    "    51: (16, 0, \"N\", \"\"),\n",
    "    53: (8, 0, \"E\", \"\"),\n",
    "    55: (6, 0, \"N\", \"\"),\n",
    "    56: (18, 0, \"S\", \"\"),\n",
    "}\n",
    "\n",
    "# going to be 1 of the actual number since \n",
    "print(vectors[13])"
   ]
  },
  {
   "cell_type": "code",
   "execution_count": 145,
   "metadata": {},
   "outputs": [
    {
     "name": "stdout",
     "output_type": "stream",
     "text": [
      "(-3.464101615137755, 1.9999999999999998)\n"
     ]
    }
   ],
   "source": [
    "# x and y\n",
    "vectors_components: dict[int, tuple[int, int]] = {}\n",
    "#range(1, list(vectors.items())[-1][0])\n",
    "for i in vectors.keys():\n",
    "    vector: tuple[int, int, str, str] = vectors[i]\n",
    "\n",
    "    mag: int = vector[0]\n",
    "    direc: int = vector[1]\n",
    "    coord1: str = vector[2]\n",
    "    coord2: str = vector[3]\n",
    "    x_component: int\n",
    "    y_component: int\n",
    "\n",
    "    if coord1 == \"N\":\n",
    "        if coord2 == \"E\":\n",
    "            vectors_components[i] = (adjacent_side(mag, direc, True), opposite_side(mag, direc, True))\n",
    "        elif coord2 == \"W\":\n",
    "            vectors_components[i] = (adjacent_side(mag, direc, False), opposite_side(mag, direc, True))\n",
    "        elif coord2 == \"\":\n",
    "            vectors_components[i] = (0, mag)\n",
    "        else:\n",
    "            raise Exception(\"Data incorrectly formatted.\")\n",
    "    elif coord1 == \"S\":\n",
    "        if coord2 == \"E\":\n",
    "            vectors_components[i] = (adjacent_side(mag, direc, True), opposite_side(mag, direc, False))\n",
    "        elif coord2 == \"W\":\n",
    "            vectors_components[i] = (adjacent_side(mag, direc, False), opposite_side(mag, direc, False))\n",
    "        elif coord2 == \"\":\n",
    "            vectors_components[i] = (0, -mag)\n",
    "        else:\n",
    "            raise Exception(\"Data incorrectly formatted.\")\n",
    "    elif coord1 == \"E\":\n",
    "        if coord2 == \"N\":\n",
    "            vectors_components[i] = (opposite_side(mag, direc, True), adjacent_side(mag, direc, True))\n",
    "        elif coord2 == \"S\":\n",
    "            vectors_components[i] = (opposite_side(mag, direc, True), adjacent_side(mag, direc, False))\n",
    "        elif coord2 == \"\":\n",
    "            vectors_components[i] = (mag, 0)\n",
    "        else:\n",
    "            raise Exception(\"Data incorrectly formatted.\")\n",
    "    elif coord1 == \"W\":\n",
    "        if coord2 == \"N\":\n",
    "            vectors_components[i] = (opposite_side(mag, direc, False), adjacent_side(mag, direc, True))\n",
    "        elif coord2 == \"S\":\n",
    "            vectors_components[i] = (opposite_side(mag, direc, False), adjacent_side(mag, direc, False))\n",
    "        elif coord2 == \"\":\n",
    "            vectors_components[i] = (-mag, 0)\n",
    "        else:\n",
    "            raise Exception(\"Data incorrectly formatted.\")\n",
    "    else:\n",
    "        raise Exception(\"Data incorrectly formatted.\")\n",
    "\n",
    "print(vectors_components[13])"
   ]
  },
  {
   "cell_type": "code",
   "execution_count": 146,
   "metadata": {},
   "outputs": [
    {
     "data": {
      "text/plain": [
       "[({13: (-3.464101615137755, 1.9999999999999998),\n",
       "   48: (0, -15),\n",
       "   2: (14.142135623730951, 14.14213562373095),\n",
       "   19: (2.4999999999999996, -4.330127018922194),\n",
       "   38: (-2.8284271247461903, -2.82842712474619),\n",
       "   40: (-6.92820323027551, 3.9999999999999996)},\n",
       "  (-0.042697961566259046, -0.016418519937434706)),\n",
       " ({13: (-3.464101615137755, 1.9999999999999998),\n",
       "   48: (0, -15),\n",
       "   2: (14.142135623730951, 14.14213562373095),\n",
       "   19: (2.4999999999999996, -4.330127018922194),\n",
       "   40: (-6.92820323027551, 3.9999999999999996),\n",
       "   38: (-2.8284271247461903, -2.82842712474619)},\n",
       "  (-0.04269796156625949, -0.016418519937434706)),\n",
       " ({13: (-3.464101615137755, 1.9999999999999998),\n",
       "   48: (0, -15),\n",
       "   2: (14.142135623730951, 14.14213562373095),\n",
       "   38: (-2.8284271247461903, -2.82842712474619),\n",
       "   19: (2.4999999999999996, -4.330127018922194),\n",
       "   40: (-6.92820323027551, 3.9999999999999996)},\n",
       "  (-0.042697961566259046, -0.016418519937434706)),\n",
       " ({13: (-3.464101615137755, 1.9999999999999998),\n",
       "   48: (0, -15),\n",
       "   2: (14.142135623730951, 14.14213562373095),\n",
       "   38: (-2.8284271247461903, -2.82842712474619),\n",
       "   40: (-6.92820323027551, 3.9999999999999996),\n",
       "   19: (2.4999999999999996, -4.330127018922194)},\n",
       "  (-0.04269796156625949, -0.01641851993743426)),\n",
       " ({13: (-3.464101615137755, 1.9999999999999998),\n",
       "   48: (0, -15),\n",
       "   2: (14.142135623730951, 14.14213562373095),\n",
       "   40: (-6.92820323027551, 3.9999999999999996),\n",
       "   19: (2.4999999999999996, -4.330127018922194),\n",
       "   38: (-2.8284271247461903, -2.82842712474619)},\n",
       "  (-0.042697961566259934, -0.01641851993743426))]"
      ]
     },
     "execution_count": 146,
     "metadata": {},
     "output_type": "execute_result"
    }
   ],
   "source": [
    "keys: list[int] = list(vectors.keys())\n",
    "\n",
    "bounds: tuple[int, int] = (-.05, .05)\n",
    "\n",
    "# list of a tuple of 5 vectors that are within bounds and another dict inside the tuple that has x and y\n",
    "\n",
    "vectors_within_bounds = []\n",
    "\n",
    "x = 0\n",
    "for i in keys:\n",
    "  x += 1\n",
    "  for j in keys[x:]:\n",
    "    for k in keys[x + 1:]:\n",
    "      for l in keys[x + 2:]:\n",
    "        for m in keys[x + 3:]:\n",
    "          if bounds[0] < vectors_components[13][0] + vectors_components[48][0] + vectors_components[i][0] + vectors_components[j][0] + vectors_components[k][0] + vectors_components[l][0] + vectors_components[m][0] < bounds[1]:\n",
    "            if bounds[0] < vectors_components[13][1] + vectors_components[48][1] + vectors_components[i][1] + vectors_components[j][1] + vectors_components[k][1] + vectors_components[l][1] + vectors_components[m][1] < bounds[1]:\n",
    "              vectors_within_bounds.append(( {13: vectors_components[13], 48: vectors_components[48], i: vectors_components[i], j: vectors_components[j], k: vectors_components[k], l: vectors_components[l], m: vectors_components[m]},\n",
    "              (vectors_components[13][0] + vectors_components[48][0] + vectors_components[i][0] + vectors_components[j][0] + vectors_components[k][0] + vectors_components[l][0] + vectors_components[m][0] ,\n",
    "              vectors_components[13][1] + vectors_components[48][1] + vectors_components[i][1] + vectors_components[j][1] + vectors_components[k][1] + vectors_components[l][1] + vectors_components[m][1] )))\n",
    "\n",
    "vectors_within_bounds[:5]"
   ]
  },
  {
   "cell_type": "code",
   "execution_count": 148,
   "metadata": {},
   "outputs": [
    {
     "name": "stdout",
     "output_type": "stream",
     "text": [
      "[(9, 30), (2, 24), (7, 24), (12, 24), (19, 18)]\n"
     ]
    }
   ],
   "source": [
    "from collections import Counter\n",
    "\n",
    "third_vectors: list[int] = []\n",
    "for set_of_vector in vectors_within_bounds:\n",
    "    third_vectors.append(list(set_of_vector[0])[2])\n",
    "\n",
    "data = Counter(third_vectors)\n",
    "\n",
    "most_frequent_third_vector = data.most_common(5)\n",
    "print(data.most_common(5))"
   ]
  },
  {
   "cell_type": "code",
   "execution_count": 151,
   "metadata": {},
   "outputs": [
    {
     "data": {
      "text/plain": [
       "[{9: [(12, 8), (53, 6), (22, 5), (34, 5), (19, 3)]},\n",
       " {2: [(19, 8), (38, 8), (40, 8)]},\n",
       " {7: [(21, 6), (27, 6), (30, 6), (40, 6)]},\n",
       " {12: [(22, 6), (30, 6), (34, 6), (39, 6)]},\n",
       " {19: [(22, 6), (29, 4), (31, 4), (40, 4)]}]"
      ]
     },
     "execution_count": 151,
     "metadata": {},
     "output_type": "execute_result"
    }
   ],
   "source": [
    "third_fourth_vectors = []\n",
    "\n",
    "for third_vector, frequency in most_frequent_third_vector:\n",
    "    fourth_vectors: list[int] = []\n",
    "    for set_of_vector in vectors_within_bounds:\n",
    "        if (list(set_of_vector[0])[2] == third_vector):\n",
    "            fourth_vectors.append(list(set_of_vector[0])[3])\n",
    "    third_fourth_vectors.append({third_vector: Counter(fourth_vectors).most_common(5)})\n",
    "\n",
    "third_fourth_vectors"
   ]
  }
 ],
 "metadata": {
  "kernelspec": {
   "display_name": "kernel",
   "language": "python",
   "name": "kernel"
  },
  "language_info": {
   "codemirror_mode": {
    "name": "ipython",
    "version": 3
   },
   "file_extension": ".py",
   "mimetype": "text/x-python",
   "name": "python",
   "nbconvert_exporter": "python",
   "pygments_lexer": "ipython3",
   "version": "3.11.3"
  },
  "orig_nbformat": 4
 },
 "nbformat": 4,
 "nbformat_minor": 2
}
