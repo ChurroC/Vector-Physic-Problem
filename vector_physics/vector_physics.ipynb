{
 "cells": [
  {
   "cell_type": "markdown",
   "metadata": {},
   "source": [
    "All the data are in txt files on the folder section in github or vs code."
   ]
  },
  {
   "cell_type": "code",
   "execution_count": 4,
   "metadata": {},
   "outputs": [
    {
     "name": "stdout",
     "output_type": "stream",
     "text": [
      "-1.9999999999999998\n",
      "-3.464101615137755\n"
     ]
    }
   ],
   "source": [
    "import math\n",
    "\n",
    "def opposite_side(hypotenuse: int, angle: int, pos: bool = False):\n",
    "    opposite: int = hypotenuse * math.sin(math.radians(angle)) * (1 if pos else -1)\n",
    "    return opposite\n",
    "\n",
    "def adjacent_side(hypotenuse: int, angle: int, pos: bool = False):\n",
    "    adjacent: int = hypotenuse * math.cos(math.radians(angle)) * (1 if pos else -1)\n",
    "    return adjacent\n",
    "\n",
    "print(opposite_side(4, 30))\n",
    "print(adjacent_side(4, 30))"
   ]
  },
  {
   "cell_type": "markdown",
   "metadata": {},
   "source": [
    "The code above, used math to find dx and dy of a vector."
   ]
  },
  {
   "cell_type": "code",
   "execution_count": 29,
   "metadata": {},
   "outputs": [
    {
     "name": "stdout",
     "output_type": "stream",
     "text": [
      "(20, 45, 'N', 'E')\n"
     ]
    }
   ],
   "source": [
    "# magnitude, direction, n or s, e or w\n",
    "# we have 13 and 48 and 3 maybe\n",
    "# the missing numbers are already taken\n",
    "vectors: dict[int, tuple[int, int, str, str]] = {\n",
    "    2: (20, 45, \"N\", \"E\"),\n",
    "    3: (30, 60, \"S\", \"W\"),\n",
    "    4: (40, 30, \"S\", \"E\"),\n",
    "    5: (50, 45, \"N\", \"E\"),\n",
    "    7: (10, 30, \"S\", \"W\"),\n",
    "    8: (15, 45, \"S\", \"E\"),\n",
    "    9: (20, 60, \"N\", \"W\"),\n",
    "    10: (1, 30, \"N\", \"E\"),\n",
    "    11: (2, 45, \"S\", \"W\"),\n",
    "    12: (3, 60, \"S\", \"E\"),\n",
    "    13: (4, 30, \"N\", \"W\"),\n",
    "    14: (5, 45, \"N\", \"E\"),\n",
    "    15: (21, 60, \"S\", \"W\"),\n",
    "    17: (23, 45, \"E\", \"N\"),\n",
    "    19: (5, 30, \"E\", \"S\"),\n",
    "    20: (15, 45, \"W\", \"S\"),\n",
    "    21: (25, 60, \"E\", \"N\"),\n",
    "    22: (35, 30, \"W\", \"N\"),\n",
    "    23: (45, 45, \"E\", \"S\"),\n",
    "    24: (55, 60, \"W\", \"S\"),\n",
    "    26: (11, 45, \"W\", \"N\"),\n",
    "    27: (12, 60, \"E\", \"S\"),\n",
    "    28: (13, 30, \"W\", \"S\"),\n",
    "    29: (14, 45, \"E\", \"N\"),\n",
    "    30: (15, 60, \"W\", \"N\"),\n",
    "    31: (31, 30, \"E\", \"S\"),\n",
    "    32: (32, 45, \"W\", \"S\"),\n",
    "    33: (33, 60, \"S\", \"W\"),\n",
    "    34: (34, 30, \"S\", \"E\"),\n",
    "    35: (35, 45, \"N\", \"W\"),\n",
    "    36: (36, 60, \"N\", \"E\"),\n",
    "    37: (2, 30, \"N\", \"E\"),\n",
    "    38: (4, 45, \"S\", \"W\"),\n",
    "    39: (6, 60, \"S\", \"E\"),\n",
    "    40: (8, 30, \"N\", \"W\"),\n",
    "    41: (10, 45, \"S\", \"E\"),\n",
    "    42: (13, 60, \"S\", \"W\"),\n",
    "    44: (10, 0, \"S\", \"\"),\n",
    "    45: (15, 0, \"E\", \"\"),\n",
    "    47: (20, 0, \"N\", \"\"),\n",
    "    48: (15, 0, \"S\", \"\"),\n",
    "    50: (5, 0, \"W\", \"\"),\n",
    "    51: (16, 0, \"N\", \"\"),\n",
    "    53: (8, 0, \"E\", \"\"),\n",
    "    55: (6, 0, \"N\", \"\"),\n",
    "    56: (18, 0, \"S\", \"\"),\n",
    "}\n",
    "\n",
    "print(vectors[13])"
   ]
  },
  {
   "cell_type": "markdown",
   "metadata": {},
   "source": [
    "The code above, is me just transcribing the vectors in a usable dictionary. I've skip numbers that have been already taken by others. vector_num: (magnitude, angle, first_direction, second_direction)."
   ]
  },
  {
   "cell_type": "code",
   "execution_count": 37,
   "metadata": {},
   "outputs": [
    {
     "name": "stdout",
     "output_type": "stream",
     "text": [
      "(-3.464101615137755, 1.9999999999999998)\n"
     ]
    }
   ],
   "source": [
    "# x and y\n",
    "vectors_components: dict[int, tuple[int, int]] = {}\n",
    "\n",
    "for i in vectors.keys():\n",
    "    vector: tuple[int, int, str, str] = vectors[i]\n",
    "\n",
    "    mag: int = vector[0]\n",
    "    direc: int = vector[1]\n",
    "    coord1: str = vector[2]\n",
    "    coord2: str = vector[3]\n",
    "    x_component: int\n",
    "    y_component: int\n",
    "\n",
    "    if coord1 == \"N\":\n",
    "        if coord2 == \"E\":\n",
    "            vectors_components[i] = (adjacent_side(mag, direc, True), opposite_side(mag, direc, True))\n",
    "        elif coord2 == \"W\":\n",
    "            vectors_components[i] = (adjacent_side(mag, direc, False), opposite_side(mag, direc, True))\n",
    "        elif coord2 == \"\":\n",
    "            vectors_components[i] = (0, mag)\n",
    "        else:\n",
    "            raise Exception(\"Data incorrectly formatted.\")\n",
    "    elif coord1 == \"S\":\n",
    "        if coord2 == \"E\":\n",
    "            vectors_components[i] = (adjacent_side(mag, direc, True), opposite_side(mag, direc, False))\n",
    "        elif coord2 == \"W\":\n",
    "            vectors_components[i] = (adjacent_side(mag, direc, False), opposite_side(mag, direc, False))\n",
    "        elif coord2 == \"\":\n",
    "            vectors_components[i] = (0, -mag)\n",
    "        else:\n",
    "            raise Exception(\"Data incorrectly formatted.\")\n",
    "    elif coord1 == \"E\":\n",
    "        if coord2 == \"N\":\n",
    "            vectors_components[i] = (opposite_side(mag, direc, True), adjacent_side(mag, direc, True))\n",
    "        elif coord2 == \"S\":\n",
    "            vectors_components[i] = (opposite_side(mag, direc, True), adjacent_side(mag, direc, False))\n",
    "        elif coord2 == \"\":\n",
    "            vectors_components[i] = (mag, 0)\n",
    "        else:\n",
    "            raise Exception(\"Data incorrectly formatted.\")\n",
    "    elif coord1 == \"W\":\n",
    "        if coord2 == \"N\":\n",
    "            vectors_components[i] = (opposite_side(mag, direc, False), adjacent_side(mag, direc, True))\n",
    "        elif coord2 == \"S\":\n",
    "            vectors_components[i] = (opposite_side(mag, direc, False), adjacent_side(mag, direc, False))\n",
    "        elif coord2 == \"\":\n",
    "            vectors_components[i] = (-mag, 0)\n",
    "        else:\n",
    "            raise Exception(\"Data incorrectly formatted.\")\n",
    "    else:\n",
    "        raise Exception(\"Data incorrectly formatted.\")\n",
    "\n",
    "print(vectors_components[13])"
   ]
  },
  {
   "cell_type": "markdown",
   "metadata": {},
   "source": [
    "Above I used a bunch of if and else to figure out what would be x and y. Since opposite of S of E is y while opposite of E of S is x. Now I have a dictionary of all the vectors x and y."
   ]
  },
  {
   "cell_type": "code",
   "execution_count": 42,
   "metadata": {},
   "outputs": [
    {
     "data": {
      "text/plain": [
       "[({13: (-3.464101615137755, 1.9999999999999998),\n",
       "   48: (0, -15),\n",
       "   7: (-8.660254037844387, -4.999999999999999),\n",
       "   21: (21.650635094610966, 12.500000000000004),\n",
       "   27: (10.392304845413264, -6.000000000000002),\n",
       "   30: (-12.990381056766578, 7.500000000000002),\n",
       "   40: (-6.92820323027551, 3.9999999999999996)},\n",
       "  (-8.881784197001252e-16, 3.1086244689504383e-15)),\n",
       " ({13: (-3.464101615137755, 1.9999999999999998),\n",
       "   48: (0, -15),\n",
       "   7: (-8.660254037844387, -4.999999999999999),\n",
       "   21: (21.650635094610966, 12.500000000000004),\n",
       "   27: (10.392304845413264, -6.000000000000002),\n",
       "   40: (-6.92820323027551, 3.9999999999999996),\n",
       "   30: (-12.990381056766578, 7.500000000000002)},\n",
       "  (-1.7763568394002505e-15, 3.552713678800501e-15)),\n",
       " ({13: (-3.464101615137755, 1.9999999999999998),\n",
       "   48: (0, -15),\n",
       "   7: (-8.660254037844387, -4.999999999999999),\n",
       "   21: (21.650635094610966, 12.500000000000004),\n",
       "   30: (-12.990381056766578, 7.500000000000002),\n",
       "   27: (10.392304845413264, -6.000000000000002),\n",
       "   40: (-6.92820323027551, 3.9999999999999996)},\n",
       "  (-8.881784197001252e-16, 3.1086244689504383e-15))]"
      ]
     },
     "execution_count": 42,
     "metadata": {},
     "output_type": "execute_result"
    }
   ],
   "source": [
    "# turns out 13 and 48 are being are used so need to take them out\n",
    "vectors_components_without_own = vectors_components.copy()\n",
    "del vectors_components_without_own[13]\n",
    "del vectors_components_without_own[48]\n",
    "\n",
    "keys: list[int] = list(vectors_components_without_own.keys())\n",
    "\n",
    "bounds: tuple[int, int] = (-.05, .05)\n",
    "\n",
    "# list of a tuple of 5 vectors that are within bounds and another dict inside the tuple that has x and y\n",
    "vectors_within_bounds = []\n",
    "\n",
    "x = 0\n",
    "for i in keys:\n",
    "  x += 1\n",
    "  for j in keys[x:]:\n",
    "    for k in keys[x + 1:]:\n",
    "      for l in keys[x + 2:]:\n",
    "        for m in keys[x + 3:]:\n",
    "          if bounds[0] < vectors_components[13][0] + vectors_components[48][0] + vectors_components_without_own[i][0] + vectors_components_without_own[j][0] + vectors_components_without_own[k][0] + vectors_components_without_own[l][0] + vectors_components_without_own[m][0] < bounds[1]:\n",
    "            if bounds[0] < vectors_components[13][1] + vectors_components[48][1] + vectors_components_without_own[i][1] + vectors_components_without_own[j][1] + vectors_components_without_own[k][1] + vectors_components_without_own[l][1] + vectors_components_without_own[m][1] < bounds[1]:\n",
    "              vectors_within_bounds.append(( {13: vectors_components[13], 48: vectors_components[48], i: vectors_components_without_own[i], j: vectors_components_without_own[j], k: vectors_components_without_own[k], l: vectors_components_without_own[l], m: vectors_components_without_own[m]},\n",
    "              (vectors_components[13][0] + vectors_components[48][0] + vectors_components_without_own[i][0] + vectors_components_without_own[j][0] + vectors_components_without_own[k][0] + vectors_components_without_own[l][0] + vectors_components_without_own[m][0] ,\n",
    "              vectors_components[13][1] + vectors_components[48][1] + vectors_components_without_own[i][1] + vectors_components_without_own[j][1] + vectors_components_without_own[k][1] + vectors_components_without_own[l][1] + vectors_components_without_own[m][1] )))\n",
    "\n",
    "vectors_within_bounds[:3]"
   ]
  },
  {
   "cell_type": "markdown",
   "metadata": {},
   "source": [
    "I used 5 nested for loops to figure out what next 5 combination will get me closes between the bounds. I set the bounds to -.05 to .05. I created a copt of the dictionary without the vectors we already recieved called vectors_components_without_own. I then used the for loops and added the 5 vectors plus the original 2 to see if they were between the bounds. If they were I added them vectors_within_bounds which is an array of tuples. Each tuple has a dictionary of the 7 vectors that add up to the x and y value in the second part of the tuple."
   ]
  },
  {
   "cell_type": "code",
   "execution_count": 43,
   "metadata": {},
   "outputs": [
    {
     "name": "stdout",
     "output_type": "stream",
     "text": [
      "[(7, 24), (12, 24), (19, 18), (9, 12)]\n"
     ]
    }
   ],
   "source": [
    "from collections import Counter\n",
    "\n",
    "third_vectors: list[int] = []\n",
    "for set_of_vector in vectors_within_bounds:\n",
    "    third_vectors.append(list(set_of_vector[0])[2])\n",
    "\n",
    "data = Counter(third_vectors)\n",
    "\n",
    "most_frequent_third_vector = data.most_common(5)\n",
    "print(data.most_common(5))"
   ]
  },
  {
   "cell_type": "markdown",
   "metadata": {},
   "source": [
    "Here I used the vectors we got and found the most common third vector and how many times so we now what is the most important to pick."
   ]
  },
  {
   "cell_type": "code",
   "execution_count": 45,
   "metadata": {},
   "outputs": [
    {
     "data": {
      "text/plain": [
       "[{7: [(21, 6), (27, 6), (30, 6), (40, 6)]},\n",
       " {12: [(22, 6), (30, 6), (34, 6), (39, 6)]},\n",
       " {19: [(22, 6), (29, 4), (31, 4), (40, 4)]},\n",
       " {9: [(53, 6), (19, 3), (50, 3)]}]"
      ]
     },
     "execution_count": 45,
     "metadata": {},
     "output_type": "execute_result"
    }
   ],
   "source": [
    "third_fourth_vectors = []\n",
    "\n",
    "for third_vector, frequency in most_frequent_third_vector:\n",
    "    fourth_vectors: list[int] = []\n",
    "    for set_of_vector in vectors_within_bounds:\n",
    "        if (list(set_of_vector[0])[2] == third_vector):\n",
    "            fourth_vectors.append(list(set_of_vector[0])[3])\n",
    "    third_fourth_vectors.append({third_vector: Counter(fourth_vectors).most_common(5)})\n",
    "\n",
    "third_fourth_vectors"
   ]
  },
  {
   "cell_type": "markdown",
   "metadata": {},
   "source": [
    "Based of the third vector I found the most important 4 vectors to choose."
   ]
  }
 ],
 "metadata": {
  "kernelspec": {
   "display_name": "kernel",
   "language": "python",
   "name": "kernel"
  },
  "language_info": {
   "codemirror_mode": {
    "name": "ipython",
    "version": 3
   },
   "file_extension": ".py",
   "mimetype": "text/x-python",
   "name": "python",
   "nbconvert_exporter": "python",
   "pygments_lexer": "ipython3",
   "version": "3.11.3"
  },
  "orig_nbformat": 4
 },
 "nbformat": 4,
 "nbformat_minor": 2
}
